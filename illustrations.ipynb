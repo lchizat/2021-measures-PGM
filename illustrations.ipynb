{
 "cells": [
  {
   "cell_type": "code",
   "execution_count": null,
   "metadata": {},
   "outputs": [],
   "source": [
    "using PyPlot, Random, ProgressMeter"
   ]
  },
  {
   "cell_type": "code",
   "execution_count": null,
   "metadata": {},
   "outputs": [],
   "source": [
    "function power_entropy(α,s)\n",
    "    if α == 0\n",
    "            -log(s) + s - 1\n",
    "    elseif α == 1\n",
    "            s*log(s)-s+1\n",
    "    elseif α > 1\n",
    "        (abs(s)^α)/(α-1)/α\n",
    "    else\n",
    "        (abs(s)^α - α*(s-1) -1)/(α-1)/α\n",
    "    end\n",
    "end"
   ]
  },
  {
   "cell_type": "code",
   "execution_count": null,
   "metadata": {},
   "outputs": [],
   "source": [
    "function hypentropy(β,s)\n",
    "    s*asinh(s/β) - sqrt(s^2 + β^2) + β\n",
    "end"
   ]
  },
  {
   "cell_type": "code",
   "execution_count": null,
   "metadata": {},
   "outputs": [],
   "source": [
    "figure(figsize=[13,3])\n",
    "cmap = ColorMap(\"viridis\")\n",
    "subplot(131)\n",
    "ss = 0.001:0.001:4\n",
    "αs = 1.0\n",
    "for i = 1:length(αs)\n",
    "    plot(ss,power_entropy.(αs[i],ss),color=cmap(15),label=\"p=$(αs[i])\")\n",
    "    plot(ss,1.0./ss,color=cmap(15),\":\")\n",
    "end\n",
    "title(\"(Negative) Shannon entropy\")\n",
    "axis([0,4,0,3]);#legend()\n",
    "\n",
    "subplot(132)\n",
    "ss = -2.00:0.001:2\n",
    "αs = [1.5;2;2.5]\n",
    "for i = 1:length(αs)\n",
    "    plot(ss,power_entropy.(αs[i],ss),color=cmap(αs[i]-1.5),label=\"p=$(αs[i])\")\n",
    "    plot(ss,abs.(ss).^(αs[i]-2),color=cmap(αs[i]-1.5),\":\")\n",
    "end\n",
    "title(\"Power functions\")\n",
    "axis([-2,2,0,3]);legend()\n",
    "\n",
    "subplot(133)\n",
    "ss = -2.00:0.001:2\n",
    "βs = 0.2:0.4:1.0\n",
    "for i = 1:length(βs)\n",
    "    plot(ss,hypentropy.(βs[i],ss),color=cmap(βs[i]/1.0),label=\"β=$(βs[i])\")\n",
    "    plot(ss,1.0 ./ sqrt.(abs.(ss).^2 .+ βs[i]^2),color=cmap(βs[i]/1.0),\":\")\n",
    "end\n",
    "title(\"Hyperbolic entropies\")\n",
    "axis([-2,2,0,3]);legend()\n",
    "savefig(\"entropies.png\")"
   ]
  }
 ],
 "metadata": {
  "kernelspec": {
   "display_name": "Julia 1.6.0",
   "language": "julia",
   "name": "julia-1.6"
  },
  "language_info": {
   "file_extension": ".jl",
   "mimetype": "application/julia",
   "name": "julia",
   "version": "1.6.0"
  }
 },
 "nbformat": 4,
 "nbformat_minor": 4
}
